{
 "cells": [
  {
   "cell_type": "code",
   "execution_count": 34,
   "metadata": {},
   "outputs": [
    {
     "name": "stdout",
     "output_type": "stream",
     "text": [
      "\\datasets\\images\\image_sign\n",
      "c:\\datasets\\images\\image_sign\n",
      "0\n"
     ]
    }
   ],
   "source": [
    "import cv2\n",
    "import os\n",
    "import numpy as np\n",
    "import requests\n",
    "import pathlib\n",
    "import matplotlib.pyplot as plt\n",
    "import matplotlib.image as mpimg\n",
    "import sys\n",
    "import datetime\n",
    "from tensorflow import keras\n",
    "from tensorflow.python.keras.models import Model\n",
    "import tensorflow as tf\n",
    "import zipfile\n",
    "\n",
    "# data_dir= tf.keras.utils.get_file(\n",
    "#     \"image_sign.zip\",\n",
    "#     \"https://github.com/Moustapha406/image-zip-sign/blob/master/image%20sign.rar?raw=true\",\n",
    "#     extract=False\n",
    "#  )\n",
    "\n",
    "# with zipfile.ZipFile(data_dir,'r') as zip_ref:\n",
    "#     zip_ref.extractall('/datasets/images')\n",
    "\n",
    "data_dir =pathlib.Path('/image_sign')\n",
    "\n",
    "print(data_dir)\n",
    "print(os.path.abspath(data_dir))\n",
    "\n",
    "image_count=len(list(data_dir.glob('*/*')))\n",
    "print(image_count)"
   ]
  }
 ],
 "metadata": {
  "kernelspec": {
   "display_name": "Python 3.10.4 64-bit",
   "language": "python",
   "name": "python3"
  },
  "language_info": {
   "codemirror_mode": {
    "name": "ipython",
    "version": 3
   },
   "file_extension": ".py",
   "mimetype": "text/x-python",
   "name": "python",
   "nbconvert_exporter": "python",
   "pygments_lexer": "ipython3",
   "version": "3.10.4"
  },
  "orig_nbformat": 4,
  "vscode": {
   "interpreter": {
    "hash": "52634da84371cba311ea128a5ea7cdc41ff074b781779e754b270ff9f8153cee"
   }
  }
 },
 "nbformat": 4,
 "nbformat_minor": 2
}
